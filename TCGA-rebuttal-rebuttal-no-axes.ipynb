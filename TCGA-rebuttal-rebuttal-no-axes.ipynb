{
 "cells": [
  {
   "cell_type": "code",
   "execution_count": 1,
   "id": "66551ff5",
   "metadata": {},
   "outputs": [],
   "source": [
    "import numpy as np\n",
    "import pandas as pd\n",
    "from skbio.stats.composition import clr\n",
    "import matplotlib.pyplot as plt\n",
    "import seaborn as sns\n",
    "from skbio.diversity.alpha import shannon\n",
    "from scipy.stats import pearsonr\n",
    "from scipy.stats import mannwhitneyu\n",
    "sns.set(rc={'axes.facecolor':'white', \n",
    "            'figure.facecolor':'white', \n",
    "            'axes.edgecolor':'black', \n",
    "            'grid.color': 'black'\n",
    "            }, \n",
    "       font_scale=2)\n",
    "\n",
    "def rescale(xx):\n",
    "    return(xx/xx.sum(axis=1)[:, np.newaxis] )\n",
    "\n",
    "def add_15_percent_to_top_ylim(ax):\n",
    "    ylim=ax.get_ylim() \n",
    "    ax.set_ylim( ylim[0], ylim[1] + ( ylim[1] - ylim[0] ) * .15)\n",
    "    return(None)\n",
    "hide_axes=True\n"
   ]
  },
  {
   "cell_type": "code",
   "execution_count": 2,
   "id": "a7739a62",
   "metadata": {},
   "outputs": [],
   "source": [
    "def make_shannon_plot(df, \n",
    "                      md\n",
    "                     ):\n",
    "    sh_alphas = [shannon(x) for x in df.values]\n",
    "    md['Shannon_diversities'] = sh_alphas\n",
    "\n",
    "    mw = mannwhitneyu( *[md.loc[md.grouping==a].Shannon_diversities\n",
    "                       for a in md.grouping.unique()]\n",
    "                       )\n",
    "\n",
    "    plt.figure(figsize=(12 * .3,7))\n",
    "    ax=sns.boxplot(x = md.grouping, \n",
    "                y=md.Shannon_diversities, \n",
    "                fliersize=0\n",
    "               )\n",
    "\n",
    "    if df.shape[0]<=100: # make swarmplot if we don't have too many points\n",
    "        sns.swarmplot(x = md.grouping, \n",
    "                      y=md.Shannon_diversities, \n",
    "                      size=5, \n",
    "                      color='black', \n",
    "                      ax=ax\n",
    "                      )\n",
    "\n",
    "    plt.ylabel('Shannon diversity')\n",
    "    plt.xlabel(None)\n",
    "    plt.title('Mann Whitney U p = {:.1e}\\n'.format(mw.pvalue))\n",
    "    plt.xticks(rotation=90)\n",
    "    return(ax)\n",
    "\n",
    "    "
   ]
  },
  {
   "cell_type": "code",
   "execution_count": 3,
   "id": "e5218160",
   "metadata": {},
   "outputs": [],
   "source": [
    "def make_ra_feature_plot(df, \n",
    "                         md, \n",
    "                         val,\n",
    "                         ):\n",
    "\n",
    "    val_ = np.where(df.columns == val)[0][0]\n",
    "    X_ra = rescale(df.values) \n",
    "    md['ra'] = X_ra[:, val_]\n",
    "\n",
    "    try:\n",
    "        mw = mannwhitneyu( *[md.loc[md.grouping==a].ra\n",
    "                           for a in md.grouping.unique()]\n",
    "                           )\n",
    "        pval=mw.pvalue\n",
    "    except:\n",
    "        pval = 1000\n",
    "        \n",
    "    plt.figure(figsize=(12 * .3,7))\n",
    "\n",
    "    ax = sns.boxplot(x = md.grouping, \n",
    "                     y=X_ra[:,val_], \n",
    "                     fliersize=0\n",
    "                     )\n",
    "\n",
    "    if df.shape[0]<=100: # make swarmplot if we don't have too many points\n",
    "        sns.swarmplot(x = md.grouping, \n",
    "                      y=X_ra[:,val_], \n",
    "                      size=5, \n",
    "                      color='black', \n",
    "                      ax=ax\n",
    "                      )\n",
    "    plt.ylabel(\"{}'s relative abundance\".format(val.split('g__')[-1]))\n",
    "    plt.xlabel(None)\n",
    "    plt.title( 'Mann Whitney U p = {:.1e}\\n'.format(pval) )\n",
    "    plt.xticks(rotation=90)\n",
    "    return(ax)\n",
    "\n",
    "\n",
    "\n",
    "def make_clr_feature_plot(df, \n",
    "                          md, \n",
    "                          val,\n",
    "                          ):\n",
    "\n",
    "    val_ = np.where(df.columns == val)[0][0]\n",
    "#     X_clr = clr(rescale(df.values) + 1e-5)\n",
    "\n",
    "\n",
    "#     X_clr = clr(rescale(1 + df.values)  )#+ 1e-5)\n",
    "    \n",
    "    \n",
    "    val_ = np.where(df.columns == val)[0][0]\n",
    "    rsc_df = rescale(df.values)\n",
    "    X_clr = clr(rsc_df + 10**np.floor(np.log10(rsc_df[rsc_df != 0].min())))\n",
    "    \n",
    "    md['clre'] = X_clr[:, val_]\n",
    "    # pearsonr(md.is_lc, X_clr[:, val_])\n",
    "\n",
    "\n",
    "    mw = mannwhitneyu( *[md.loc[md.grouping==a].clre\n",
    "                       for a in md.grouping.unique()]\n",
    "                       )\n",
    "    plt.figure(figsize=(12 * .3,7))\n",
    "\n",
    "    ax = sns.boxplot(x = md.grouping, \n",
    "                     y=X_clr[:,val_], \n",
    "                     fliersize=0\n",
    "                     )\n",
    "\n",
    "    if df.shape[0]<=100: # make swarmplot if we don't have too many points\n",
    "        sns.swarmplot(x = md.grouping, \n",
    "                      y=X_clr[:,val_], \n",
    "                      size=5, \n",
    "                      color='black', \n",
    "                      ax=ax\n",
    "                      )\n",
    "    plt.ylabel(\"{}'s centered log ratio\".format(val.split('g__')[-1]))\n",
    "    plt.xlabel(None)\n",
    "    plt.title( 'Mann Whitney U p = {:.1e}\\n'.format(mw.pvalue) )\n",
    "    plt.xticks(rotation=90)\n",
    "    return(ax)\n",
    "\n",
    "\n"
   ]
  },
  {
   "cell_type": "markdown",
   "id": "9de8018a",
   "metadata": {},
   "source": [
    "## their fig 2"
   ]
  },
  {
   "cell_type": "code",
   "execution_count": 4,
   "id": "a6dc8e76",
   "metadata": {},
   "outputs": [],
   "source": [
    "df = pd.read_csv('Kraken-TCGA-Raw-Data-17625-Samples.csv', index_col=0)\n",
    "md = pd.read_csv('Metadata-TCGA-All-18116-Samples.csv', index_col=0).loc[df.index]\n",
    "\n",
    "df=df.loc[df.index.isin(md.index)]\n",
    "md=md.loc[md.index.isin(df.index)].loc[df.index]\n",
    "\n",
    "\n",
    "cols = pd.read_csv('Kraken-TCGA-Voom-SNM-Most-Stringent-Filtering-Data.csv', \n",
    "            index_col=0, nrows=1).columns\n",
    "df = df.loc[:, cols[cols.str.contains('contaminant')==False]]\n",
    "df_vsnm=pd.read_csv('Kraken-TCGA-Voom-SNM-Most-Stringent-Filtering-Data.csv', \n",
    "            index_col=0).loc[md.index]\n",
    "\n",
    "md['grouping'] = md.disease_type == 'Adrenocortical Carcinoma'\n",
    "xaxis_name = 'Adrenocortical Carcinoma'\n",
    "\n",
    "save_path = 'tcga_plots-no-axes/Fig-2-Adrenocortical-Carcinoma-Hepandensovirus'\n",
    "val = df.columns[df.columns.str.contains('Hepandensovirus')].values[0]"
   ]
  },
  {
   "cell_type": "code",
   "execution_count": 5,
   "id": "8f7bbb79",
   "metadata": {},
   "outputs": [
    {
     "data": {
      "image/png": "[encoded data removed]",
      "text/plain": [
       "<Figure size 864x504 with 1 Axes>"
      ]
     },
     "metadata": {},
     "output_type": "display_data"
    }
   ],
   "source": [
    "\n",
    "val_vsnm = df_vsnm.columns[df_vsnm.columns.str.contains('Hepandensovirus')].values[0]\n",
    "plt.figure(figsize=(12,7))\n",
    "# plt.semilogy()\n",
    "inds=df_vsnm[val] < 3.1\n",
    "ax=sns.histplot(x=df_vsnm.loc[inds][val_vsnm].values, \n",
    "             hue = md.loc[inds].grouping.values, \n",
    "             bins=30\n",
    "             )\n",
    "ax.legend_.set_title('Adrenocortical Carcinoma')\n",
    "plt.ylim(0, 2000)\n",
    "if hide_axes:\n",
    "    ax.get_legend().remove()\n",
    "    ax.set(\n",
    "           yticklabels=[], \n",
    "           xticklabels=[])\n",
    "    plt.xlabel(None)\n",
    "    plt.ylabel(None)\n",
    "    plt.title(None)\n",
    "plt.savefig(save_path+'-VSNM.pdf', \n",
    "            dpi=900, \n",
    "            bbox_inches='tight', \n",
    "            format='pdf'\n",
    "            )"
   ]
  },
  {
   "cell_type": "code",
   "execution_count": 6,
   "id": "4b5c7ab5",
   "metadata": {},
   "outputs": [
    {
     "data": {
      "image/png": "[encoded data removed]",
      "text/plain": [
       "<Figure size 259.2x504 with 1 Axes>"
      ]
     },
     "metadata": {},
     "output_type": "display_data"
    },
    {
     "data": {
      "image/png": "[encoded data removed]",
      "text/plain": [
       "<Figure size 259.2x504 with 1 Axes>"
      ]
     },
     "metadata": {},
     "output_type": "display_data"
    },
    {
     "data": {
      "image/png": "[encoded data removed]",
      "text/plain": [
       "<Figure size 259.2x504 with 1 Axes>"
      ]
     },
     "metadata": {},
     "output_type": "display_data"
    }
   ],
   "source": [
    "val = df.columns[df.columns.str.contains('Hepandensovirus')].values[0]\n",
    "ax=make_shannon_plot(df, \n",
    "                      md\n",
    "                     )\n",
    "ax.set_xlabel(xaxis_name)\n",
    "ax.set_ylim(1.5,3.8)\n",
    "add_15_percent_to_top_ylim(ax)\n",
    "if hide_axes:\n",
    "    ax.set(yticklabels=[], \n",
    "           xticklabels=[])\n",
    "    plt.xlabel(None)\n",
    "    plt.ylabel(None)\n",
    "    plt.title(None)\n",
    "plt.savefig(save_path+'-Shannon.pdf', \n",
    "            dpi=900, \n",
    "            bbox_inches='tight', \n",
    "            format='pdf'\n",
    "            )\n",
    "plt.show()\n",
    "\n",
    "ax=make_ra_feature_plot(df, \n",
    "                      md, \n",
    "                      val\n",
    "                      )\n",
    "ax.set_xlabel(xaxis_name)\n",
    "add_15_percent_to_top_ylim(ax)\n",
    "if hide_axes:\n",
    "    ax.set(yticklabels=[], \n",
    "           xticklabels=[] )\n",
    "    plt.xlabel(None)\n",
    "    plt.ylabel(None)\n",
    "    plt.title(None)\n",
    "plt.savefig(save_path+'-RA.pdf', \n",
    "            dpi=900, \n",
    "            bbox_inches='tight', \n",
    "            format='pdf'\n",
    "           )\n",
    "\n",
    "plt.show()\n",
    "\n",
    "ax=make_clr_feature_plot(df, \n",
    "                      md, \n",
    "                      val\n",
    "                      )\n",
    "ax.set_xlabel(xaxis_name)\n",
    "add_15_percent_to_top_ylim(ax)\n",
    "if hide_axes:\n",
    "    ax.set(yticklabels=[], \n",
    "           xticklabels=[])\n",
    "    plt.xlabel(None)\n",
    "    plt.ylabel(None)\n",
    "    plt.title(None)\n",
    "plt.savefig(save_path+'-CLR.pdf', \n",
    "            dpi=900, \n",
    "            bbox_inches='tight', \n",
    "            format='pdf'\n",
    "           )\n",
    "plt.show()"
   ]
  },
  {
   "cell_type": "markdown",
   "id": "a0cd330b",
   "metadata": {},
   "source": [
    "## their fig 3"
   ]
  },
  {
   "cell_type": "code",
   "execution_count": 7,
   "id": "5bafcbfc",
   "metadata": {},
   "outputs": [],
   "source": [
    "df = pd.read_csv('Kraken-TCGA-Raw-Data-17625-Samples.csv', index_col=0)\n",
    "md = pd.read_csv('Metadata-TCGA-All-18116-Samples.csv', index_col=0).loc[df.index]\n",
    "md=md.loc[md.experimental_strategy=='WGS']\n",
    "md=md.loc[(md.sample_type!='Blood Derived Normal')&\\\n",
    "          (md.disease_type=='Kidney Chromophobe')]\n",
    "# md = md.loc[ md.sample_type == 'Primary Tumor' ]\n",
    "df=df.loc[df.index.isin(md.index)]\n",
    "md=md.loc[md.index.isin(df.index)].loc[df.index]\n",
    "\n",
    "\n",
    "cols=  pd.read_csv('Kraken-TCGA-Voom-SNM-All-Putative-Contaminants-Removed-Data.csv', \n",
    "            index_col=0, nrows=1).columns\n",
    "df = df.loc[:, cols[cols.str.contains('contaminant')==False]]\n",
    "\n",
    "md['grouping'] = md.sample_type\n",
    "save_path = 'tcga_plots-no-axes/Fig-3-Adrenocortical-Carcinoma-Thiorhodospira'\n",
    "val = df.columns[df.columns.str.contains('Thiorhodospira')].values[0]"
   ]
  },
  {
   "cell_type": "code",
   "execution_count": 8,
   "id": "257b05d2",
   "metadata": {},
   "outputs": [
    {
     "data": {
      "image/png": "[encoded data removed]",
      "text/plain": [
       "<Figure size 864x504 with 1 Axes>"
      ]
     },
     "metadata": {},
     "output_type": "display_data"
    }
   ],
   "source": [
    "df_vsnm = pd.read_csv('Kraken-TCGA-Voom-SNM-All-Putative-Contaminants-Removed-Data.csv', \n",
    "                      index_col=0 ).loc[md.index]\n",
    "plt.figure(figsize=(12,7))\n",
    "# plt.semilogy()\n",
    "ax=sns.histplot(x=df_vsnm.loc[inds][val].values, \n",
    "                hue = md.loc[inds].grouping.values, \n",
    "                bins=30\n",
    "                )\n",
    "if hide_axes:\n",
    "    ax.get_legend().remove()\n",
    "    ax.set(\n",
    "           yticklabels=[], \n",
    "           xticklabels=[])\n",
    "    plt.xlabel(None)\n",
    "    plt.ylabel(None)\n",
    "    plt.title(None)\n",
    "plt.savefig(save_path+'-VSNM.pdf', \n",
    "            dpi=900, \n",
    "            bbox_inches='tight', \n",
    "            format='pdf'\n",
    "            )"
   ]
  },
  {
   "cell_type": "code",
   "execution_count": 9,
   "id": "a097aeb8",
   "metadata": {},
   "outputs": [
    {
     "data": {
      "image/png": "[encoded data removed]",
      "text/plain": [
       "<Figure size 259.2x504 with 1 Axes>"
      ]
     },
     "metadata": {},
     "output_type": "display_data"
    },
    {
     "name": "stderr",
     "output_type": "stream",
     "text": [
      "/Users/george/opt/anaconda3/envs/pl2/lib/python3.6/site-packages/seaborn/categorical.py:1296: UserWarning: 62.0% of the points cannot be placed; you may want to decrease the size of the markers or use stripplot.\n",
      "  warnings.warn(msg, UserWarning)\n",
      "/Users/george/opt/anaconda3/envs/pl2/lib/python3.6/site-packages/seaborn/categorical.py:1296: UserWarning: 56.1% of the points cannot be placed; you may want to decrease the size of the markers or use stripplot.\n",
      "  warnings.warn(msg, UserWarning)\n"
     ]
    },
    {
     "data": {
      "image/png": "[encoded data removed]",
      "text/plain": [
       "<Figure size 259.2x504 with 1 Axes>"
      ]
     },
     "metadata": {},
     "output_type": "display_data"
    },
    {
     "data": {
      "image/png": "[encoded data removed]",
      "text/plain": [
       "<Figure size 259.2x504 with 1 Axes>"
      ]
     },
     "metadata": {},
     "output_type": "display_data"
    }
   ],
   "source": [
    "val = df.columns[df.columns.str.contains('Thiorhodospira')].values[0]\n",
    "ax=make_shannon_plot(df, \n",
    "                      md\n",
    "                     )\n",
    "add_15_percent_to_top_ylim(ax)\n",
    "if hide_axes:\n",
    "    ax.set(yticklabels=[], \n",
    "           xticklabels=[])\n",
    "    plt.xlabel(None)\n",
    "    plt.ylabel(None)\n",
    "    plt.title(None)\n",
    "plt.savefig(save_path+'-Shannon.pdf', \n",
    "            dpi=900, \n",
    "            bbox_inches='tight', \n",
    "            format='pdf'\n",
    "           )\n",
    "plt.show()\n",
    "\n",
    "ax=make_ra_feature_plot(df, \n",
    "                      md, \n",
    "                      val\n",
    "                      )\n",
    "add_15_percent_to_top_ylim(ax)\n",
    "if hide_axes:\n",
    "    ax.set(yticklabels=[], \n",
    "           xticklabels=[])\n",
    "    plt.xlabel(None)\n",
    "    plt.ylabel(None)\n",
    "    plt.title(None)\n",
    "plt.savefig(save_path+'-RA.pdf', \n",
    "            dpi=900, \n",
    "            bbox_inches='tight', \n",
    "            format='pdf'\n",
    "           )\n",
    "plt.show()\n",
    "\n",
    "ax=make_clr_feature_plot(df, \n",
    "                      md, \n",
    "                      val\n",
    "                      )\n",
    "add_15_percent_to_top_ylim(ax)\n",
    "if hide_axes:\n",
    "    ax.set(yticklabels=[], \n",
    "           xticklabels=[])\n",
    "    plt.xlabel(None)\n",
    "    plt.ylabel(None)\n",
    "    plt.title(None)\n",
    "plt.savefig(save_path+'-CLR.pdf', \n",
    "            dpi=900, \n",
    "            bbox_inches='tight', \n",
    "            format='pdf'\n",
    "           )\n",
    "plt.show()"
   ]
  },
  {
   "cell_type": "markdown",
   "id": "c6d75f5f",
   "metadata": {},
   "source": [
    "## fig 4"
   ]
  },
  {
   "cell_type": "code",
   "execution_count": 10,
   "id": "646cef7b",
   "metadata": {},
   "outputs": [],
   "source": [
    "df = pd.read_csv('Kraken-TCGA-Raw-Data-17625-Samples.csv', index_col=0)\n",
    "md = pd.read_csv('Metadata-TCGA-All-18116-Samples.csv', index_col=0).loc[df.index]\n",
    "md = md.loc[ md.sample_type == 'Primary Tumor' ]\n",
    "df=df.loc[df.index.isin(md.index)]\n",
    "md=md.loc[md.index.isin(df.index)].loc[df.index]\n",
    "\n",
    "cols=  pd.read_csv('Kraken-TCGA-Voom-SNM-All-Putative-Contaminants-Removed-Data.csv', \n",
    "            index_col=0, nrows=1).columns\n",
    "df = df.loc[:, cols[cols.str.contains('contaminant')==False]]\n",
    "\n",
    "md['grouping'] = md.disease_type=='Lung Squamous Cell Carcinoma'\n",
    "xaxis_name = 'Lung Squamous Cell Carcinoma'\n",
    "\n",
    "save_path = 'tcga_plots-no-axes/Fig-4-Lung-Squamous-Cell-Carcinoma-Nitrospira'\n",
    "val = 'k__Bacteria.p__Nitrospirae.c__Nitrospira.o__Nitrospirales.f__Nitrospiraceae.g__Nitrospira'\n",
    "\n"
   ]
  },
  {
   "cell_type": "code",
   "execution_count": 11,
   "id": "11ca8f58",
   "metadata": {},
   "outputs": [
    {
     "data": {
      "image/png": "[encoded data removed]",
      "text/plain": [
       "<Figure size 864x504 with 1 Axes>"
      ]
     },
     "metadata": {},
     "output_type": "display_data"
    }
   ],
   "source": [
    "df_vsnm = pd.read_csv('Kraken-TCGA-Voom-SNM-All-Putative-Contaminants-Removed-Data.csv', \n",
    "                      index_col=0 ).loc[md.index]\n",
    "plt.figure(figsize=(12,7))\n",
    "ax=sns.histplot(x=df_vsnm.loc[inds][val].values, \n",
    "                hue = md.loc[inds].grouping.values, \n",
    "                bins=30\n",
    "                )\n",
    "if hide_axes:\n",
    "    ax.get_legend().remove()\n",
    "    ax.set(\n",
    "           yticklabels=[], \n",
    "           xticklabels=[])\n",
    "    plt.xlabel(None)\n",
    "    plt.ylabel(None)\n",
    "    plt.title(None)\n",
    "plt.savefig(save_path+'-VSNM.pdf', \n",
    "            dpi=900, \n",
    "            bbox_inches='tight', \n",
    "            format='pdf'\n",
    "            )"
   ]
  },
  {
   "cell_type": "code",
   "execution_count": 12,
   "id": "9204bcec",
   "metadata": {},
   "outputs": [
    {
     "data": {
      "image/png": "[encoded data removed]",
      "text/plain": [
       "<Figure size 259.2x504 with 1 Axes>"
      ]
     },
     "metadata": {},
     "output_type": "display_data"
    },
    {
     "data": {
      "image/png": "[encoded data removed]",
      "text/plain": [
       "<Figure size 259.2x504 with 1 Axes>"
      ]
     },
     "metadata": {},
     "output_type": "display_data"
    },
    {
     "data": {
      "image/png": "[encoded data removed]",
      "text/plain": [
       "<Figure size 259.2x504 with 1 Axes>"
      ]
     },
     "metadata": {},
     "output_type": "display_data"
    }
   ],
   "source": [
    "ax=make_shannon_plot(df, \n",
    "                      md\n",
    "                     )\n",
    "ax.set_xlabel(xaxis_name)\n",
    "ax.set_ylim(2.8, 6.5)\n",
    "add_15_percent_to_top_ylim(ax)\n",
    "if hide_axes:\n",
    "    ax.set(yticklabels=[], \n",
    "           xticklabels=[])\n",
    "    plt.xlabel(None)\n",
    "    plt.ylabel(None)\n",
    "    plt.title(None)\n",
    "plt.savefig(save_path+'-Shannon.pdf', \n",
    "            dpi=900, \n",
    "            bbox_inches='tight', \n",
    "            format='pdf'\n",
    "           )\n",
    "plt.show()\n",
    "\n",
    "ax=make_ra_feature_plot(df, \n",
    "                        md, \n",
    "                        val\n",
    "                        )\n",
    "ax.set_xlabel(xaxis_name)\n",
    "ax.set_ylim(-0.0001, 0.003)\n",
    "add_15_percent_to_top_ylim(ax)\n",
    "if hide_axes:\n",
    "    ax.set(yticklabels=[], \n",
    "           xticklabels=[])\n",
    "    plt.xlabel(None)\n",
    "    plt.ylabel(None)\n",
    "    plt.title(None)\n",
    "plt.savefig(save_path+'-RA.pdf', \n",
    "            dpi=900, \n",
    "            bbox_inches='tight', \n",
    "            format='pdf'\n",
    "           )\n",
    "plt.show()\n",
    "\n",
    "ax=make_clr_feature_plot(df, \n",
    "                      md, \n",
    "                      val\n",
    "                      )\n",
    "ax.set_xlabel(xaxis_name)\n",
    "add_15_percent_to_top_ylim(ax)\n",
    "if hide_axes:\n",
    "    ax.set(yticklabels=[], \n",
    "           xticklabels=[])\n",
    "    plt.xlabel(None)\n",
    "    plt.ylabel(None)\n",
    "    plt.title(None)\n",
    "plt.savefig(save_path+'-CLR.pdf', \n",
    "            dpi=900, \n",
    "            bbox_inches='tight', \n",
    "            format='pdf'\n",
    "           )\n",
    "plt.show()"
   ]
  },
  {
   "cell_type": "markdown",
   "id": "4618ba3f",
   "metadata": {},
   "source": [
    "## fig 5"
   ]
  },
  {
   "cell_type": "code",
   "execution_count": 13,
   "id": "cb81c632",
   "metadata": {},
   "outputs": [],
   "source": [
    "df = pd.read_csv('Kraken-TCGA-Raw-Data-17625-Samples.csv', index_col=0)\n",
    "md = pd.read_csv('Metadata-TCGA-All-18116-Samples.csv', index_col=0).loc[df.index]\n",
    "md=md.loc[(md.primary_site=='Head and Neck')&\\\n",
    "          (md.sample_type.str.contains('Blood')==False)&\n",
    "          (md.sample_type.str.contains('Metastatic')==False)\n",
    "         ]\n",
    "\n",
    "df=df.loc[df.index.isin(md.index)]\n",
    "md=md.loc[md.index.isin(df.index)].loc[df.index]\n",
    "\n",
    "\n",
    "cols = pd.read_csv('Kraken-TCGA-Voom-SNM-Most-Stringent-Filtering-Data.csv', \n",
    "                   index_col=0, \n",
    "                   nrows=1).columns\n",
    "df = df.loc[:, cols[cols.str.contains('contaminant')==False]]\n",
    "\n",
    "md['grouping'] = md.sample_type\n",
    "\n",
    "val ='k__Viruses.o__Caudovirales.f__Myoviridae.g__Mulikevirus'\n",
    "save_path = 'tcga_plots-no-axes/Fig-5-Head-and-Neck-Mulikevirus'"
   ]
  },
  {
   "cell_type": "code",
   "execution_count": 14,
   "id": "491ea5f0",
   "metadata": {},
   "outputs": [
    {
     "data": {
      "image/png": "[encoded data removed]",
      "text/plain": [
       "<Figure size 864x504 with 1 Axes>"
      ]
     },
     "metadata": {},
     "output_type": "display_data"
    }
   ],
   "source": [
    "df_vsnm = pd.read_csv('Kraken-TCGA-Voom-SNM-Most-Stringent-Filtering-Data.csv', \n",
    "                        index_col=0).loc[md.index]\n",
    "plt.figure(figsize=(12,7))\n",
    "inds=md.index\n",
    "ax=sns.histplot(x=df_vsnm.loc[inds][val].values, \n",
    "                hue = md.loc[inds].grouping.values\n",
    "                )\n",
    "if hide_axes:\n",
    "    ax.get_legend().remove()\n",
    "    ax.set(\n",
    "           yticklabels=[], \n",
    "           xticklabels=[])\n",
    "    plt.xlabel(None)\n",
    "    plt.ylabel(None)\n",
    "    plt.title(None)\n",
    "plt.savefig(save_path+'-VSNM.pdf', \n",
    "            dpi=900, \n",
    "            bbox_inches='tight', \n",
    "            format='pdf'\n",
    "            )\n"
   ]
  },
  {
   "cell_type": "code",
   "execution_count": 15,
   "id": "d7f5817f",
   "metadata": {},
   "outputs": [
    {
     "data": {
      "image/png": "[encoded data removed]",
      "text/plain": [
       "<Figure size 259.2x504 with 1 Axes>"
      ]
     },
     "metadata": {},
     "output_type": "display_data"
    },
    {
     "data": {
      "image/png": "[encoded data removed]",
      "text/plain": [
       "<Figure size 259.2x504 with 1 Axes>"
      ]
     },
     "metadata": {},
     "output_type": "display_data"
    },
    {
     "data": {
      "image/png": "[encoded data removed]",
      "text/plain": [
       "<Figure size 259.2x504 with 1 Axes>"
      ]
     },
     "metadata": {},
     "output_type": "display_data"
    }
   ],
   "source": [
    "ax=make_shannon_plot(df, \n",
    "                  md\n",
    "                  )\n",
    "add_15_percent_to_top_ylim(ax)\n",
    "if hide_axes:\n",
    "    ax.set(yticklabels=[], \n",
    "           xticklabels=[])\n",
    "    plt.xlabel(None)\n",
    "    plt.ylabel(None)\n",
    "    plt.title(None)\n",
    "plt.savefig(save_path+'-Shannon.pdf', \n",
    "            dpi=900, \n",
    "            bbox_inches='tight', \n",
    "            format='pdf'\n",
    "           )\n",
    "plt.show()\n",
    "\n",
    "ax=make_ra_feature_plot(df, \n",
    "                      md, \n",
    "                      val\n",
    "                      )\n",
    "if hide_axes:\n",
    "    ax.set(yticklabels=[], \n",
    "           xticklabels=[])\n",
    "    plt.xlabel(None)\n",
    "    plt.ylabel(None)\n",
    "    plt.title(None)\n",
    "plt.savefig(save_path+'-RA.pdf', \n",
    "            dpi=900, \n",
    "            bbox_inches='tight', \n",
    "            format='pdf'\n",
    "           )\n",
    "plt.show()\n",
    "\n",
    "\n",
    "ax=make_clr_feature_plot(df, \n",
    "                      md, \n",
    "                      val\n",
    "                      )\n",
    "add_15_percent_to_top_ylim(ax)\n",
    "if hide_axes:\n",
    "    ax.set(yticklabels=[], \n",
    "           xticklabels=[])\n",
    "    plt.xlabel(None)\n",
    "    plt.ylabel(None)\n",
    "    plt.title(None)\n",
    "plt.savefig(save_path+'-CLR.pdf', \n",
    "            dpi=900, \n",
    "            bbox_inches='tight', \n",
    "            format='pdf'\n",
    "           )\n",
    "plt.show()"
   ]
  },
  {
   "cell_type": "code",
   "execution_count": null,
   "id": "f5a4138a",
   "metadata": {},
   "outputs": [],
   "source": []
  }
 ],
 "metadata": {
  "kernelspec": {
   "display_name": "pl2",
   "language": "python",
   "name": "pl2"
  },
  "language_info": {
   "codemirror_mode": {
    "name": "ipython",
    "version": 3
   },
   "file_extension": ".py",
   "mimetype": "text/x-python",
   "name": "python",
   "nbconvert_exporter": "python",
   "pygments_lexer": "ipython3",
   "version": "3.6.15"
  }
 },
 "nbformat": 4,
 "nbformat_minor": 5
}
